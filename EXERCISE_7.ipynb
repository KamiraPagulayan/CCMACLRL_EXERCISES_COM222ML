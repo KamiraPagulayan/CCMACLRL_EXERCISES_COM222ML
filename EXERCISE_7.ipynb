{
  "nbformat": 4,
  "nbformat_minor": 0,
  "metadata": {
    "colab": {
      "provenance": [],
      "include_colab_link": true
    },
    "kernelspec": {
      "name": "python3",
      "display_name": "Python 3"
    },
    "language_info": {
      "name": "python"
    }
  },
  "cells": [
    {
      "cell_type": "markdown",
      "metadata": {
        "id": "view-in-github",
        "colab_type": "text"
      },
      "source": [
        "<a href=\"https://colab.research.google.com/github/KamiraPagulayan/CCMACLRL_EXERCISES_COM222ML/blob/main/EXERCISE_7.ipynb\" target=\"_parent\"><img src=\"https://colab.research.google.com/assets/colab-badge.svg\" alt=\"Open In Colab\"/></a>"
      ]
    },
    {
      "cell_type": "markdown",
      "source": [
        "# Exercise 7: Hate Speech Classification using Multinomial Naive Bayes\n",
        "\n",
        "Instructions:\n",
        "- You do not need to split your data. Use the training, validation and test sets provided below.\n",
        "- Use Multinomial Naive Bayes to train a model that can classify if a sentence is a hate speech or non-hate speech\n",
        "- A sentence with a label of zero (0) is classified as non-hate speech\n",
        "- A sentence with a label of one (1) is classified as a hate speech\n",
        "\n",
        "Apply text pre-processing techniques such as\n",
        "- Converting to lowercase\n",
        "- Stop word Removal\n",
        "- Removal of digits, special characters\n",
        "- Stemming or Lemmatization but not both\n",
        "- Count Vectorizer or TF-IDF Vectorizer but not both\n",
        "\n",
        "Evaluate your model by:\n",
        "- Providing input by yourself\n",
        "- Creating a Confusion Matrix\n",
        "- Calculating the Accuracy, Precision, Recall and F1-Score"
      ],
      "metadata": {
        "id": "2GaQuj0Ihf9s"
      }
    },
    {
      "cell_type": "code",
      "execution_count": 92,
      "metadata": {
        "id": "k7PqvnUChZy6",
        "outputId": "d791c224-274e-4c1c-dfd3-82f619ed63f4",
        "colab": {
          "base_uri": "https://localhost:8080/"
        }
      },
      "outputs": [
        {
          "output_type": "stream",
          "name": "stderr",
          "text": [
            "[nltk_data] Downloading package punkt to /root/nltk_data...\n",
            "[nltk_data]   Package punkt is already up-to-date!\n",
            "[nltk_data] Downloading package wordnet to /root/nltk_data...\n",
            "[nltk_data]   Package wordnet is already up-to-date!\n",
            "[nltk_data] Downloading package stopwords to /root/nltk_data...\n",
            "[nltk_data]   Package stopwords is already up-to-date!\n"
          ]
        },
        {
          "output_type": "execute_result",
          "data": {
            "text/plain": [
              "True"
            ]
          },
          "metadata": {},
          "execution_count": 92
        }
      ],
      "source": [
        "import numpy as np\n",
        "import matplotlib.pyplot as plt\n",
        "import pandas as pd\n",
        "import nltk\n",
        "import seaborn as sns\n",
        "import re\n",
        "import os, types\n",
        "\n",
        "from sklearn.feature_extraction.text import CountVectorizer, TfidfVectorizer\n",
        "from sklearn.metrics import roc_auc_score, roc_curve, confusion_matrix, precision_score, recall_score, accuracy_score, balanced_accuracy_score, ConfusionMatrixDisplay\n",
        "from sklearn.model_selection import train_test_split\n",
        "from sklearn.naive_bayes import MultinomialNB\n",
        "from sklearn.metrics import accuracy_score, precision_score, recall_score, f1_score\n",
        "\n",
        "\n",
        "from nltk.stem import WordNetLemmatizer\n",
        "from nltk.stem import PorterStemmer\n",
        "from nltk.tokenize import word_tokenize\n",
        "from nltk.corpus import stopwords\n",
        "\n",
        "nltk.download(\"punkt\")\n",
        "nltk.download('wordnet')\n",
        "nltk.download('stopwords')"
      ]
    },
    {
      "cell_type": "code",
      "source": [
        "splits = {'train': 'unique_train_dataset.csv', 'validation': 'unique_validation_dataset.csv', 'test': 'unique_test_dataset.csv'}"
      ],
      "metadata": {
        "id": "rJNoJf2gkaou"
      },
      "execution_count": 93,
      "outputs": []
    },
    {
      "cell_type": "markdown",
      "source": [
        "**Training Set**\n",
        "\n",
        "Use this to train your model"
      ],
      "metadata": {
        "id": "LszdWP_3jN7z"
      }
    },
    {
      "cell_type": "code",
      "source": [
        "df_train = pd.read_csv(\"hf://datasets/mapsoriano/2016_2022_hate_speech_filipino/\" + splits[\"train\"])"
      ],
      "metadata": {
        "id": "WMeIHIHWlR3-"
      },
      "execution_count": 94,
      "outputs": []
    },
    {
      "cell_type": "code",
      "source": [
        "df_train.head()"
      ],
      "metadata": {
        "id": "CSKx53Rn4OLi",
        "outputId": "89644f86-e2e5-4e07-b2e2-0225982d6c77",
        "colab": {
          "base_uri": "https://localhost:8080/",
          "height": 206
        }
      },
      "execution_count": 95,
      "outputs": [
        {
          "output_type": "execute_result",
          "data": {
            "text/plain": [
              "                                                text  label\n",
              "0  Presidential candidate Mar Roxas implies that ...      1\n",
              "1  Parang may mali na sumunod ang patalastas ng N...      1\n",
              "2                    Bet ko. Pula Ang Kulay Ng Posas      1\n",
              "3                               [USERNAME] kakampink      0\n",
              "4  Bakit parang tahimik ang mga PINK about Doc Wi...      1"
            ],
            "text/html": [
              "\n",
              "  <div id=\"df-38811d60-ab8f-439a-83f7-051ca0d69bf7\" class=\"colab-df-container\">\n",
              "    <div>\n",
              "<style scoped>\n",
              "    .dataframe tbody tr th:only-of-type {\n",
              "        vertical-align: middle;\n",
              "    }\n",
              "\n",
              "    .dataframe tbody tr th {\n",
              "        vertical-align: top;\n",
              "    }\n",
              "\n",
              "    .dataframe thead th {\n",
              "        text-align: right;\n",
              "    }\n",
              "</style>\n",
              "<table border=\"1\" class=\"dataframe\">\n",
              "  <thead>\n",
              "    <tr style=\"text-align: right;\">\n",
              "      <th></th>\n",
              "      <th>text</th>\n",
              "      <th>label</th>\n",
              "    </tr>\n",
              "  </thead>\n",
              "  <tbody>\n",
              "    <tr>\n",
              "      <th>0</th>\n",
              "      <td>Presidential candidate Mar Roxas implies that ...</td>\n",
              "      <td>1</td>\n",
              "    </tr>\n",
              "    <tr>\n",
              "      <th>1</th>\n",
              "      <td>Parang may mali na sumunod ang patalastas ng N...</td>\n",
              "      <td>1</td>\n",
              "    </tr>\n",
              "    <tr>\n",
              "      <th>2</th>\n",
              "      <td>Bet ko. Pula Ang Kulay Ng Posas</td>\n",
              "      <td>1</td>\n",
              "    </tr>\n",
              "    <tr>\n",
              "      <th>3</th>\n",
              "      <td>[USERNAME] kakampink</td>\n",
              "      <td>0</td>\n",
              "    </tr>\n",
              "    <tr>\n",
              "      <th>4</th>\n",
              "      <td>Bakit parang tahimik ang mga PINK about Doc Wi...</td>\n",
              "      <td>1</td>\n",
              "    </tr>\n",
              "  </tbody>\n",
              "</table>\n",
              "</div>\n",
              "    <div class=\"colab-df-buttons\">\n",
              "\n",
              "  <div class=\"colab-df-container\">\n",
              "    <button class=\"colab-df-convert\" onclick=\"convertToInteractive('df-38811d60-ab8f-439a-83f7-051ca0d69bf7')\"\n",
              "            title=\"Convert this dataframe to an interactive table.\"\n",
              "            style=\"display:none;\">\n",
              "\n",
              "  <svg xmlns=\"http://www.w3.org/2000/svg\" height=\"24px\" viewBox=\"0 -960 960 960\">\n",
              "    <path d=\"M120-120v-720h720v720H120Zm60-500h600v-160H180v160Zm220 220h160v-160H400v160Zm0 220h160v-160H400v160ZM180-400h160v-160H180v160Zm440 0h160v-160H620v160ZM180-180h160v-160H180v160Zm440 0h160v-160H620v160Z\"/>\n",
              "  </svg>\n",
              "    </button>\n",
              "\n",
              "  <style>\n",
              "    .colab-df-container {\n",
              "      display:flex;\n",
              "      gap: 12px;\n",
              "    }\n",
              "\n",
              "    .colab-df-convert {\n",
              "      background-color: #E8F0FE;\n",
              "      border: none;\n",
              "      border-radius: 50%;\n",
              "      cursor: pointer;\n",
              "      display: none;\n",
              "      fill: #1967D2;\n",
              "      height: 32px;\n",
              "      padding: 0 0 0 0;\n",
              "      width: 32px;\n",
              "    }\n",
              "\n",
              "    .colab-df-convert:hover {\n",
              "      background-color: #E2EBFA;\n",
              "      box-shadow: 0px 1px 2px rgba(60, 64, 67, 0.3), 0px 1px 3px 1px rgba(60, 64, 67, 0.15);\n",
              "      fill: #174EA6;\n",
              "    }\n",
              "\n",
              "    .colab-df-buttons div {\n",
              "      margin-bottom: 4px;\n",
              "    }\n",
              "\n",
              "    [theme=dark] .colab-df-convert {\n",
              "      background-color: #3B4455;\n",
              "      fill: #D2E3FC;\n",
              "    }\n",
              "\n",
              "    [theme=dark] .colab-df-convert:hover {\n",
              "      background-color: #434B5C;\n",
              "      box-shadow: 0px 1px 3px 1px rgba(0, 0, 0, 0.15);\n",
              "      filter: drop-shadow(0px 1px 2px rgba(0, 0, 0, 0.3));\n",
              "      fill: #FFFFFF;\n",
              "    }\n",
              "  </style>\n",
              "\n",
              "    <script>\n",
              "      const buttonEl =\n",
              "        document.querySelector('#df-38811d60-ab8f-439a-83f7-051ca0d69bf7 button.colab-df-convert');\n",
              "      buttonEl.style.display =\n",
              "        google.colab.kernel.accessAllowed ? 'block' : 'none';\n",
              "\n",
              "      async function convertToInteractive(key) {\n",
              "        const element = document.querySelector('#df-38811d60-ab8f-439a-83f7-051ca0d69bf7');\n",
              "        const dataTable =\n",
              "          await google.colab.kernel.invokeFunction('convertToInteractive',\n",
              "                                                    [key], {});\n",
              "        if (!dataTable) return;\n",
              "\n",
              "        const docLinkHtml = 'Like what you see? Visit the ' +\n",
              "          '<a target=\"_blank\" href=https://colab.research.google.com/notebooks/data_table.ipynb>data table notebook</a>'\n",
              "          + ' to learn more about interactive tables.';\n",
              "        element.innerHTML = '';\n",
              "        dataTable['output_type'] = 'display_data';\n",
              "        await google.colab.output.renderOutput(dataTable, element);\n",
              "        const docLink = document.createElement('div');\n",
              "        docLink.innerHTML = docLinkHtml;\n",
              "        element.appendChild(docLink);\n",
              "      }\n",
              "    </script>\n",
              "  </div>\n",
              "\n",
              "\n",
              "<div id=\"df-c7b6d110-7420-4c9d-9523-e63a41a11a9b\">\n",
              "  <button class=\"colab-df-quickchart\" onclick=\"quickchart('df-c7b6d110-7420-4c9d-9523-e63a41a11a9b')\"\n",
              "            title=\"Suggest charts\"\n",
              "            style=\"display:none;\">\n",
              "\n",
              "<svg xmlns=\"http://www.w3.org/2000/svg\" height=\"24px\"viewBox=\"0 0 24 24\"\n",
              "     width=\"24px\">\n",
              "    <g>\n",
              "        <path d=\"M19 3H5c-1.1 0-2 .9-2 2v14c0 1.1.9 2 2 2h14c1.1 0 2-.9 2-2V5c0-1.1-.9-2-2-2zM9 17H7v-7h2v7zm4 0h-2V7h2v10zm4 0h-2v-4h2v4z\"/>\n",
              "    </g>\n",
              "</svg>\n",
              "  </button>\n",
              "\n",
              "<style>\n",
              "  .colab-df-quickchart {\n",
              "      --bg-color: #E8F0FE;\n",
              "      --fill-color: #1967D2;\n",
              "      --hover-bg-color: #E2EBFA;\n",
              "      --hover-fill-color: #174EA6;\n",
              "      --disabled-fill-color: #AAA;\n",
              "      --disabled-bg-color: #DDD;\n",
              "  }\n",
              "\n",
              "  [theme=dark] .colab-df-quickchart {\n",
              "      --bg-color: #3B4455;\n",
              "      --fill-color: #D2E3FC;\n",
              "      --hover-bg-color: #434B5C;\n",
              "      --hover-fill-color: #FFFFFF;\n",
              "      --disabled-bg-color: #3B4455;\n",
              "      --disabled-fill-color: #666;\n",
              "  }\n",
              "\n",
              "  .colab-df-quickchart {\n",
              "    background-color: var(--bg-color);\n",
              "    border: none;\n",
              "    border-radius: 50%;\n",
              "    cursor: pointer;\n",
              "    display: none;\n",
              "    fill: var(--fill-color);\n",
              "    height: 32px;\n",
              "    padding: 0;\n",
              "    width: 32px;\n",
              "  }\n",
              "\n",
              "  .colab-df-quickchart:hover {\n",
              "    background-color: var(--hover-bg-color);\n",
              "    box-shadow: 0 1px 2px rgba(60, 64, 67, 0.3), 0 1px 3px 1px rgba(60, 64, 67, 0.15);\n",
              "    fill: var(--button-hover-fill-color);\n",
              "  }\n",
              "\n",
              "  .colab-df-quickchart-complete:disabled,\n",
              "  .colab-df-quickchart-complete:disabled:hover {\n",
              "    background-color: var(--disabled-bg-color);\n",
              "    fill: var(--disabled-fill-color);\n",
              "    box-shadow: none;\n",
              "  }\n",
              "\n",
              "  .colab-df-spinner {\n",
              "    border: 2px solid var(--fill-color);\n",
              "    border-color: transparent;\n",
              "    border-bottom-color: var(--fill-color);\n",
              "    animation:\n",
              "      spin 1s steps(1) infinite;\n",
              "  }\n",
              "\n",
              "  @keyframes spin {\n",
              "    0% {\n",
              "      border-color: transparent;\n",
              "      border-bottom-color: var(--fill-color);\n",
              "      border-left-color: var(--fill-color);\n",
              "    }\n",
              "    20% {\n",
              "      border-color: transparent;\n",
              "      border-left-color: var(--fill-color);\n",
              "      border-top-color: var(--fill-color);\n",
              "    }\n",
              "    30% {\n",
              "      border-color: transparent;\n",
              "      border-left-color: var(--fill-color);\n",
              "      border-top-color: var(--fill-color);\n",
              "      border-right-color: var(--fill-color);\n",
              "    }\n",
              "    40% {\n",
              "      border-color: transparent;\n",
              "      border-right-color: var(--fill-color);\n",
              "      border-top-color: var(--fill-color);\n",
              "    }\n",
              "    60% {\n",
              "      border-color: transparent;\n",
              "      border-right-color: var(--fill-color);\n",
              "    }\n",
              "    80% {\n",
              "      border-color: transparent;\n",
              "      border-right-color: var(--fill-color);\n",
              "      border-bottom-color: var(--fill-color);\n",
              "    }\n",
              "    90% {\n",
              "      border-color: transparent;\n",
              "      border-bottom-color: var(--fill-color);\n",
              "    }\n",
              "  }\n",
              "</style>\n",
              "\n",
              "  <script>\n",
              "    async function quickchart(key) {\n",
              "      const quickchartButtonEl =\n",
              "        document.querySelector('#' + key + ' button');\n",
              "      quickchartButtonEl.disabled = true;  // To prevent multiple clicks.\n",
              "      quickchartButtonEl.classList.add('colab-df-spinner');\n",
              "      try {\n",
              "        const charts = await google.colab.kernel.invokeFunction(\n",
              "            'suggestCharts', [key], {});\n",
              "      } catch (error) {\n",
              "        console.error('Error during call to suggestCharts:', error);\n",
              "      }\n",
              "      quickchartButtonEl.classList.remove('colab-df-spinner');\n",
              "      quickchartButtonEl.classList.add('colab-df-quickchart-complete');\n",
              "    }\n",
              "    (() => {\n",
              "      let quickchartButtonEl =\n",
              "        document.querySelector('#df-c7b6d110-7420-4c9d-9523-e63a41a11a9b button');\n",
              "      quickchartButtonEl.style.display =\n",
              "        google.colab.kernel.accessAllowed ? 'block' : 'none';\n",
              "    })();\n",
              "  </script>\n",
              "</div>\n",
              "\n",
              "    </div>\n",
              "  </div>\n"
            ],
            "application/vnd.google.colaboratory.intrinsic+json": {
              "type": "dataframe",
              "variable_name": "df_train",
              "summary": "{\n  \"name\": \"df_train\",\n  \"rows\": 21773,\n  \"fields\": [\n    {\n      \"column\": \"text\",\n      \"properties\": {\n        \"dtype\": \"string\",\n        \"num_unique_values\": 21773,\n        \"samples\": [\n          \"\\\"[USERNAME]: VP Binay: I wont back out from 2016 race \\\" you won't be voted into office. You don't deserve it.\",\n          \"Uy si Mar Roxas nasa tv!! Tulugan na. Magsama kayo ni Korina sa Grabe Sya\",\n          \"Look at yourself. No logic at all. Why would PoeMar and Binay pay someone to talk against Duterte? Duterte did it to himself. PERIOD\"\n        ],\n        \"semantic_type\": \"\",\n        \"description\": \"\"\n      }\n    },\n    {\n      \"column\": \"label\",\n      \"properties\": {\n        \"dtype\": \"number\",\n        \"std\": 0,\n        \"min\": 0,\n        \"max\": 1,\n        \"num_unique_values\": 2,\n        \"samples\": [\n          0,\n          1\n        ],\n        \"semantic_type\": \"\",\n        \"description\": \"\"\n      }\n    }\n  ]\n}"
            }
          },
          "metadata": {},
          "execution_count": 95
        }
      ]
    },
    {
      "cell_type": "code",
      "source": [
        "import matplotlib.pyplot as plt\n",
        "count =pd.value_counts(df_train[\"label\"], sort= True)\n",
        "count.plot(kind= 'bar', color= [\"lightblue\", \"black\"])\n",
        "plt.title('Bar chart')\n",
        "plt.legend(loc='best')\n",
        "plt.show()"
      ],
      "metadata": {
        "id": "djkLvke74QnL",
        "outputId": "4aaddc67-00cd-4ba6-8333-55db78183e1a",
        "colab": {
          "base_uri": "https://localhost:8080/",
          "height": 522
        }
      },
      "execution_count": 96,
      "outputs": [
        {
          "output_type": "stream",
          "name": "stderr",
          "text": [
            "<ipython-input-96-0ff15b4ddab4>:2: FutureWarning: pandas.value_counts is deprecated and will be removed in a future version. Use pd.Series(obj).value_counts() instead.\n",
            "  count =pd.value_counts(df_train[\"label\"], sort= True)\n"
          ]
        },
        {
          "output_type": "display_data",
          "data": {
            "text/plain": [
              "<Figure size 640x480 with 1 Axes>"
            ],
            "image/png": "[encoded data removed]"
          },
          "metadata": {}
        }
      ]
    },
    {
      "cell_type": "code",
      "source": [
        "count.plot(kind = 'pie',autopct='%1.2f%%') # 1.2 is the decimal points for 2 places\n",
        "plt.title('Pie chart')\n",
        "plt.show()"
      ],
      "metadata": {
        "id": "nfWtiHqO4ctq",
        "outputId": "864c45b0-69ef-40c0-ae6b-83b0bdf078ba",
        "colab": {
          "base_uri": "https://localhost:8080/",
          "height": 428
        }
      },
      "execution_count": 97,
      "outputs": [
        {
          "output_type": "display_data",
          "data": {
            "text/plain": [
              "<Figure size 640x480 with 1 Axes>"
            ],
            "image/png": "[encoded data removed]"
          },
          "metadata": {}
        }
      ]
    },
    {
      "cell_type": "code",
      "source": [
        "#check for missing data\n",
        "print(\"Missing data in each column:\\n\" + str(df_train.isnull().sum()))"
      ],
      "metadata": {
        "id": "0h0Cr6uX5Aea",
        "outputId": "1ebe231c-b4b2-48fe-e232-d65b69f6db31",
        "colab": {
          "base_uri": "https://localhost:8080/"
        }
      },
      "execution_count": 98,
      "outputs": [
        {
          "output_type": "stream",
          "name": "stdout",
          "text": [
            "Missing data in each column:\n",
            "text     0\n",
            "label    0\n",
            "dtype: int64\n"
          ]
        }
      ]
    },
    {
      "cell_type": "code",
      "source": [
        "df_train['label'].value_counts()"
      ],
      "metadata": {
        "id": "rOVjkmeG5C8y",
        "outputId": "6bc52400-77f4-4e1d-a6f9-a53fd0d38f07",
        "colab": {
          "base_uri": "https://localhost:8080/",
          "height": 178
        }
      },
      "execution_count": 99,
      "outputs": [
        {
          "output_type": "execute_result",
          "data": {
            "text/plain": [
              "label\n",
              "1    10994\n",
              "0    10779\n",
              "Name: count, dtype: int64"
            ],
            "text/html": [
              "<div>\n",
              "<style scoped>\n",
              "    .dataframe tbody tr th:only-of-type {\n",
              "        vertical-align: middle;\n",
              "    }\n",
              "\n",
              "    .dataframe tbody tr th {\n",
              "        vertical-align: top;\n",
              "    }\n",
              "\n",
              "    .dataframe thead th {\n",
              "        text-align: right;\n",
              "    }\n",
              "</style>\n",
              "<table border=\"1\" class=\"dataframe\">\n",
              "  <thead>\n",
              "    <tr style=\"text-align: right;\">\n",
              "      <th></th>\n",
              "      <th>count</th>\n",
              "    </tr>\n",
              "    <tr>\n",
              "      <th>label</th>\n",
              "      <th></th>\n",
              "    </tr>\n",
              "  </thead>\n",
              "  <tbody>\n",
              "    <tr>\n",
              "      <th>1</th>\n",
              "      <td>10994</td>\n",
              "    </tr>\n",
              "    <tr>\n",
              "      <th>0</th>\n",
              "      <td>10779</td>\n",
              "    </tr>\n",
              "  </tbody>\n",
              "</table>\n",
              "</div><br><label><b>dtype:</b> int64</label>"
            ]
          },
          "metadata": {},
          "execution_count": 99
        }
      ]
    },
    {
      "cell_type": "markdown",
      "source": [
        "**Validation Set**\n",
        "\n",
        "Use this set to evaluate your model"
      ],
      "metadata": {
        "id": "iQIg6P7PjQBo"
      }
    },
    {
      "cell_type": "code",
      "source": [
        "df_validation = pd.read_csv(\"hf://datasets/mapsoriano/2016_2022_hate_speech_filipino/\" + splits[\"validation\"])"
      ],
      "metadata": {
        "id": "VRB2t37Nk6A6"
      },
      "execution_count": 100,
      "outputs": []
    },
    {
      "cell_type": "markdown",
      "source": [
        "**Test Set**\n",
        "  \n",
        "Use this set to test your model"
      ],
      "metadata": {
        "id": "9zDlyRsEnOSR"
      }
    },
    {
      "cell_type": "code",
      "source": [
        "df_test = pd.read_csv(\"hf://datasets/mapsoriano/2016_2022_hate_speech_filipino/\" + splits[\"test\"])"
      ],
      "metadata": {
        "id": "OxpoTxoilJ7e"
      },
      "execution_count": 101,
      "outputs": []
    },
    {
      "cell_type": "code",
      "source": [
        "# Explore distribution of dataset\n",
        "\n",
        "# count plot on single categorical variable\n",
        "ax = sns.countplot(x = df_train['label'], palette = 'rocket')\n",
        "\n",
        "#add data labels\n",
        "ax.bar_label(ax.containers[0])\n",
        "\n",
        "# add plot title\n",
        "plt.title(\"Observations by Classification Type\")\n",
        "\n",
        "# show plot\n",
        "plt.show()"
      ],
      "metadata": {
        "id": "Zcyk-0oZ5Fuy",
        "outputId": "04643c63-e94e-41b2-b9dc-9b8235d1b303",
        "colab": {
          "base_uri": "https://localhost:8080/",
          "height": 648
        }
      },
      "execution_count": 102,
      "outputs": [
        {
          "output_type": "stream",
          "name": "stderr",
          "text": [
            "<ipython-input-102-7a02c2e581c5>:4: FutureWarning: \n",
            "\n",
            "Passing `palette` without assigning `hue` is deprecated and will be removed in v0.14.0. Assign the `x` variable to `hue` and set `legend=False` for the same effect.\n",
            "\n",
            "  ax = sns.countplot(x = df_train['label'], palette = 'rocket')\n",
            "/usr/local/lib/python3.10/dist-packages/seaborn/_base.py:949: FutureWarning: When grouping with a length-1 list-like, you will need to pass a length-1 tuple to get_group in a future version of pandas. Pass `(name,)` instead of `name` to silence this warning.\n",
            "  data_subset = grouped_data.get_group(pd_key)\n",
            "/usr/local/lib/python3.10/dist-packages/seaborn/_base.py:949: FutureWarning: When grouping with a length-1 list-like, you will need to pass a length-1 tuple to get_group in a future version of pandas. Pass `(name,)` instead of `name` to silence this warning.\n",
            "  data_subset = grouped_data.get_group(pd_key)\n"
          ]
        },
        {
          "output_type": "display_data",
          "data": {
            "text/plain": [
              "<Figure size 640x480 with 1 Axes>"
            ],
            "image/png": "[encoded data removed]"
          },
          "metadata": {}
        }
      ]
    },
    {
      "cell_type": "markdown",
      "source": [
        "## A. Understanding your training data"
      ],
      "metadata": {
        "id": "Q4mSMMNIgKhZ"
      }
    },
    {
      "cell_type": "markdown",
      "source": [
        "1. Check the first 10 rows of the training dataset"
      ],
      "metadata": {
        "id": "h0rMaAu9gq1G"
      }
    },
    {
      "cell_type": "code",
      "source": [
        "tagalog = [[\"sakin\", \"saking\", \"ako'y\", \"alinman\", \"ama\", \"aminin\", \"aming-aming\", \"angking\", \"ano-ano\", \"anumang-ito\"],\n",
        "    [\"tatlo\", \"at saka\", \"ating-atin\", \"ating-atin\", \"ayaw\", \"babaan\", \"bago-bago\", \"bakit nga\", \"bawat isa\", \"bilang ng\"],\n",
        "    [\"dahil sa\", \"dalawahan\", \"dapat na\", \"din naman\", \"dito lamang\", \"doon sa\", \"gagawin ito\", \"subalit\", \"ginagawa na\", \"ginawa na\"],\n",
        "    [\"ginawang-kawani\", \"gumagawa\", \"gusto ko\", \"habang-buhay\", \"hanggang dito\", \"hindi ito\", \"huwag na\", \"iba pang\", \"ibaba ang\", \"ibabaw ng\"],\n",
        "    [\"ibig sabihin\", \"ikaw'y\", \"ilagay mo\", \"ilalim ng\", \"ilan pa\", \"inyong-aming\", \"isa sa\", \"isang pagkakataon\", \"itaas na\", \"ito'y\"],\n",
        "    [\"iyo'y\", \"iyon na\", \"iyong sarili\", \"kaibigan\", \"kahit na\", \"kailangan ko\", \"kailan man\", \"kami'y\", \"kanilang-amin\", \"kanino man\"],\n",
        "    [\"kanya-kanyang\", \"kanyang-kanyang\", \"kapag may\", \"kapwa-tao\", \"karamihan sa\", \"katiyakan ng\", \"katulad nito\", \"kaya naman\", \"kaysa sa\", \"ko'y\"],\n",
        "    [\"kong-kong\", \"kulang pa\", \"kumuha ng\", \"kung sino\", \"labanan\", \"lahat-lahat\", \"lamang ito\", \"likuran\", \"lima-limang\", \"maaari bang\"],\n",
        "    [\"maaaring gawin\", \"maging ito\", \"mahusay na\", \"makita mo\", \"marami pang\", \"marapat na\", \"masyadong marami\", \"mayroon pa\", \"mga ganitong\", \"minsan pa\"],\n",
        "    [\"mismo itong\", \"mula sa\", \"muli na\", \"na dito\", \"nabanggit na\", \"naging bahagi\", \"nagkaroon ng\", \"nais ko\", \"nakita na\", \"namin ang\"],\n",
        "    [\"napaka-saya\", \"narito na\", \"nasaan ka\", \"ngunit\", \"ngayon din\", \"ni siya\", \"nila ito\", \"nilang lahat\", \"nito'y\", \"niya'y\"],\n",
        "    [\"niyang lahat\", \"noon din\", \"o kaya\", \"paano kaya\", \"pababa ng\", \"paggawa ng\", \"pagitan ng\", \"pagkakaroon ng\", \"pagkatapos ng\", \"palabas na\"],\n",
        "    [\"pamamagitan ng\", \"panahon na\", \"pangalawang pagkakataon\", \"para sa\", \"paraan ng\", \"pareho ang\", \"pataas na\", \"pero ito\", \"pumunta na\", \"pumupunta rin\"],\n",
        "    [\"sa mga\", \"saan man\", \"sabi ng\", \"sabihin mo\", \"sarili mo\", \"sila'y\", \"sino ba\", \"siya'y\", \"tatlong\", \"tayo'y\"],\n",
        "    [\"tulad ng\", \"tungkol sa\", \"una sa lahat\", \"walang ibang\"]]\n"
      ],
      "metadata": {
        "id": "dXIzpHtzguWw"
      },
      "execution_count": 103,
      "outputs": []
    },
    {
      "cell_type": "markdown",
      "source": [
        "2. Check how many rows and columns are in the training dataset using `.info()`"
      ],
      "metadata": {
        "id": "fqahy2swgvRP"
      }
    },
    {
      "cell_type": "code",
      "source": [
        "df_train.info()"
      ],
      "metadata": {
        "id": "4LaHZrsghAGI",
        "outputId": "76a54c88-442b-4b5b-b860-bebfb404bdb4",
        "colab": {
          "base_uri": "https://localhost:8080/"
        }
      },
      "execution_count": 104,
      "outputs": [
        {
          "output_type": "stream",
          "name": "stdout",
          "text": [
            "<class 'pandas.core.frame.DataFrame'>\n",
            "RangeIndex: 21773 entries, 0 to 21772\n",
            "Data columns (total 2 columns):\n",
            " #   Column  Non-Null Count  Dtype \n",
            "---  ------  --------------  ----- \n",
            " 0   text    21773 non-null  object\n",
            " 1   label   21773 non-null  int64 \n",
            "dtypes: int64(1), object(1)\n",
            "memory usage: 340.3+ KB\n"
          ]
        }
      ]
    },
    {
      "cell_type": "markdown",
      "source": [
        "3. Check for NaN values"
      ],
      "metadata": {
        "id": "pGO5JHqpgY27"
      }
    },
    {
      "cell_type": "code",
      "source": [
        "# Check for NaN values in the training dataset\n",
        "nan_counts = df_train.isnull().sum()\n",
        "print(\"NaN values in each column:\\n\", nan_counts)"
      ],
      "metadata": {
        "id": "gw0ntqg4gWSl",
        "outputId": "daf57082-80e9-41bd-fc69-f39e8fc89c06",
        "colab": {
          "base_uri": "https://localhost:8080/"
        }
      },
      "execution_count": 105,
      "outputs": [
        {
          "output_type": "stream",
          "name": "stdout",
          "text": [
            "NaN values in each column:\n",
            " text     0\n",
            "label    0\n",
            "dtype: int64\n"
          ]
        }
      ]
    },
    {
      "cell_type": "markdown",
      "source": [
        "4. Check for duplicate rows"
      ],
      "metadata": {
        "id": "11tJwLFCgbCE"
      }
    },
    {
      "cell_type": "code",
      "source": [
        "# Check for duplicate rows in the training dataset\n",
        "duplicate_rows = df_train.duplicated().sum()\n",
        "print(\"Number of duplicate rows:\", duplicate_rows)"
      ],
      "metadata": {
        "id": "9rJwyKDZge6Q",
        "outputId": "b7efc290-441a-4f93-d576-fc97d246bea4",
        "colab": {
          "base_uri": "https://localhost:8080/"
        }
      },
      "execution_count": 106,
      "outputs": [
        {
          "output_type": "stream",
          "name": "stdout",
          "text": [
            "Number of duplicate rows: 0\n"
          ]
        }
      ]
    },
    {
      "cell_type": "markdown",
      "source": [
        "5. Check how many rows belong to each class"
      ],
      "metadata": {
        "id": "P1twAxT9ggMp"
      }
    },
    {
      "cell_type": "code",
      "source": [
        "print(\"Column names:\", df_train.columns.tolist())"
      ],
      "metadata": {
        "id": "-2Ctwp_HCxN2",
        "outputId": "53b0d4b5-3920-432a-f4cd-e50cae45870c",
        "colab": {
          "base_uri": "https://localhost:8080/"
        }
      },
      "execution_count": 107,
      "outputs": [
        {
          "output_type": "stream",
          "name": "stdout",
          "text": [
            "Column names: ['text', 'label']\n"
          ]
        }
      ]
    },
    {
      "cell_type": "code",
      "source": [
        "print(df_train.head())"
      ],
      "metadata": {
        "id": "ObhxtkFaCzo4",
        "outputId": "fd6a5f43-d315-43bf-d2ff-7a02a149cad1",
        "colab": {
          "base_uri": "https://localhost:8080/"
        }
      },
      "execution_count": 108,
      "outputs": [
        {
          "output_type": "stream",
          "name": "stdout",
          "text": [
            "                                                text  label\n",
            "0  Presidential candidate Mar Roxas implies that ...      1\n",
            "1  Parang may mali na sumunod ang patalastas ng N...      1\n",
            "2                    Bet ko. Pula Ang Kulay Ng Posas      1\n",
            "3                               [USERNAME] kakampink      0\n",
            "4  Bakit parang tahimik ang mga PINK about Doc Wi...      1\n"
          ]
        }
      ]
    },
    {
      "cell_type": "markdown",
      "source": [
        "## B. Text pre-processing"
      ],
      "metadata": {
        "id": "EVVSotUIgSuJ"
      }
    },
    {
      "cell_type": "markdown",
      "source": [
        "6. Remove duplicate rows"
      ],
      "metadata": {
        "id": "h31QlJJCd22I"
      }
    },
    {
      "cell_type": "code",
      "source": [
        "# Remove duplicate rows\n",
        "df_train_cleaned = df_train.drop_duplicates()\n",
        "\n",
        "# Display the shape of the original and cleaned DataFrame\n",
        "print(\"Original shape:\", df_train.shape)\n",
        "print(\"Cleaned shape:\", df_train_cleaned.shape)"
      ],
      "metadata": {
        "id": "ZMaUVsgReHKP",
        "outputId": "ba6bc1d5-fd01-4a58-df87-d916be6b2f1f",
        "colab": {
          "base_uri": "https://localhost:8080/"
        }
      },
      "execution_count": 109,
      "outputs": [
        {
          "output_type": "stream",
          "name": "stdout",
          "text": [
            "Original shape: (21773, 2)\n",
            "Cleaned shape: (21773, 2)\n"
          ]
        }
      ]
    },
    {
      "cell_type": "markdown",
      "source": [
        "7. Remove rows with NaN values"
      ],
      "metadata": {
        "id": "U0FJLJwueBb2"
      }
    },
    {
      "cell_type": "code",
      "source": [
        "df_train_cleaned = df_train.dropna()\n",
        "\n",
        "# Display the shape of the original and cleaned DataFrame\n",
        "print(\"Original shape:\", df_train.shape)\n",
        "print(\"Cleaned shape:\", df_train_cleaned.shape)"
      ],
      "metadata": {
        "id": "pzegxzl0eKxA",
        "outputId": "1405d3b5-1222-46f3-8fd2-e418e8e9b4c5",
        "colab": {
          "base_uri": "https://localhost:8080/"
        }
      },
      "execution_count": 110,
      "outputs": [
        {
          "output_type": "stream",
          "name": "stdout",
          "text": [
            "Original shape: (21773, 2)\n",
            "Cleaned shape: (21773, 2)\n"
          ]
        }
      ]
    },
    {
      "cell_type": "markdown",
      "source": [
        "8. Convert all text to lowercase"
      ],
      "metadata": {
        "id": "0uEgbwrEeO0y"
      }
    },
    {
      "cell_type": "code",
      "source": [
        "# Convert the text column to lowercase\n",
        "df_train_cleaned['text'] = df_train_cleaned['text'].str.lower()\n",
        "\n",
        "# Display the first few rows to verify the change\n",
        "print(df_train_cleaned.head())"
      ],
      "metadata": {
        "id": "b_TN15G4eSjV",
        "outputId": "60d7c07e-cfef-440b-be55-4c8f576cc058",
        "colab": {
          "base_uri": "https://localhost:8080/"
        }
      },
      "execution_count": 111,
      "outputs": [
        {
          "output_type": "stream",
          "name": "stdout",
          "text": [
            "                                                text  label\n",
            "0  presidential candidate mar roxas implies that ...      1\n",
            "1  parang may mali na sumunod ang patalastas ng n...      1\n",
            "2                    bet ko. pula ang kulay ng posas      1\n",
            "3                               [username] kakampink      0\n",
            "4  bakit parang tahimik ang mga pink about doc wi...      1\n"
          ]
        }
      ]
    },
    {
      "cell_type": "markdown",
      "source": [
        "9. Remove digits, URLS and special characters"
      ],
      "metadata": {
        "id": "dejH8IW7eU7h"
      }
    },
    {
      "cell_type": "code",
      "source": [
        "def clean_text(text):\n",
        "    # Remove URLs\n",
        "    text = re.sub(r'http\\S+|www\\S+|https\\S+', '', text, flags=re.MULTILINE)\n",
        "    # Remove digits\n",
        "    text = re.sub(r'\\d+', '', text)\n",
        "    # Remove special characters (keeping only letters and whitespace)\n",
        "    text = re.sub(r'[^a-zA-Z\\s]', '', text)\n",
        "    return text"
      ],
      "metadata": {
        "id": "XiPCD1mXeeP3"
      },
      "execution_count": 112,
      "outputs": []
    },
    {
      "cell_type": "markdown",
      "source": [
        "10. Remove stop words"
      ],
      "metadata": {
        "id": "717MNDtMedlC"
      }
    },
    {
      "cell_type": "code",
      "source": [
        "def remove_stopwords(text):\n",
        "    # Get the list of stop words for the specific language (e.g., English)\n",
        "    stop_words = set(stopwords.words('english'))  # Change 'english' to your language if needed\n",
        "    # Tokenize the text\n",
        "    words = text.split()\n",
        "    # Remove stop words\n",
        "    filtered_words = [word for word in words if word not in stop_words]\n",
        "    # Join words back into a string\n",
        "    return ' '.join(filtered_words)\n"
      ],
      "metadata": {
        "id": "Lkc1ICiW8MwI"
      },
      "execution_count": 113,
      "outputs": []
    },
    {
      "cell_type": "code",
      "source": [
        "# Remove stop words from the text column\n",
        "df_train_cleaned['text'] = df_train_cleaned['text'].apply(remove_stopwords)\n",
        "\n",
        "# Display the first few rows to verify the changes\n",
        "print(df_train_cleaned.head())"
      ],
      "metadata": {
        "id": "Y4wKDC8-eg82",
        "outputId": "d496fb21-03b9-4fc5-a128-2fd0d486d26a",
        "colab": {
          "base_uri": "https://localhost:8080/"
        }
      },
      "execution_count": 114,
      "outputs": [
        {
          "output_type": "stream",
          "name": "stdout",
          "text": [
            "                                                text  label\n",
            "0  presidential candidate mar roxas implies govt ...      1\n",
            "1  parang may mali na sumunod ang patalastas ng n...      1\n",
            "2                    bet ko. pula ang kulay ng posas      1\n",
            "3                               [username] kakampink      0\n",
            "4  bakit parang tahimik ang mga pink doc willie o...      1\n"
          ]
        }
      ]
    },
    {
      "cell_type": "markdown",
      "source": [
        "11. Use Stemming or Lemmatization"
      ],
      "metadata": {
        "id": "j4jPfb1_eiAA"
      }
    },
    {
      "cell_type": "code",
      "source": [
        "from nltk.stem import PorterStemmer\n",
        "\n",
        "# Initialize the stemmer\n",
        "stemmer = PorterStemmer()"
      ],
      "metadata": {
        "id": "Ip0oDYsviKg1"
      },
      "execution_count": 115,
      "outputs": []
    },
    {
      "cell_type": "markdown",
      "source": [
        "## C. Training your model"
      ],
      "metadata": {
        "id": "CHBLOTfShuZJ"
      }
    },
    {
      "cell_type": "markdown",
      "source": [
        "12. Put all text training data in variable **X_train**"
      ],
      "metadata": {
        "id": "mN-fGuYCh247"
      }
    },
    {
      "cell_type": "code",
      "source": [
        "# Extract the text data into a variable X_train\n",
        "X_train = df_train_cleaned['text'].values  # This will give you a NumPy array\n",
        "\n",
        "# Display the first few entries of X_train to verify\n",
        "print(X_train[:5])  # Display the first 5 entries"
      ],
      "metadata": {
        "id": "JpH-V0Mbh98u",
        "outputId": "5f1536c9-e16b-4bb5-a128-5dbff787b457",
        "colab": {
          "base_uri": "https://localhost:8080/"
        }
      },
      "execution_count": 116,
      "outputs": [
        {
          "output_type": "stream",
          "name": "stdout",
          "text": [
            "['presidential candidate mar roxas implies govt liable re: laglag bala. laglag bayag na ata ito'\n",
            " 'parang may mali na sumunod ang patalastas ng nescaf coffee black sa commercial ni binay. parang lang naman.'\n",
            " 'bet ko. pula ang kulay ng posas' '[username] kakampink'\n",
            " 'bakit parang tahimik ang mga pink doc willie ong? reaction paper.']\n"
          ]
        }
      ]
    },
    {
      "cell_type": "markdown",
      "source": [
        "13. Put all training data labels in variable **y_train**"
      ],
      "metadata": {
        "id": "BTIRnIgTh-fj"
      }
    },
    {
      "cell_type": "code",
      "source": [
        "# Check the column names in the DataFrame\n",
        "print(df_train_cleaned.columns)"
      ],
      "metadata": {
        "id": "nwd9oTnXHDtu",
        "outputId": "bf2472c0-9834-492d-e891-9aedee36ddb0",
        "colab": {
          "base_uri": "https://localhost:8080/"
        }
      },
      "execution_count": 117,
      "outputs": [
        {
          "output_type": "stream",
          "name": "stdout",
          "text": [
            "Index(['text', 'label'], dtype='object')\n"
          ]
        }
      ]
    },
    {
      "cell_type": "code",
      "source": [
        "# Display the first few rows of the DataFrame\n",
        "print(df_train_cleaned.head())\n",
        "\n",
        "# Check the shape of the DataFrame\n",
        "print(\"Shape of DataFrame:\", df_train_cleaned.shape)\n",
        "\n",
        "# Check the column names in the DataFrame\n",
        "print(\"Column names:\", df_train_cleaned.columns)\n"
      ],
      "metadata": {
        "id": "u5cLdnzLiDGJ",
        "outputId": "b8aa309e-f5e0-4fcc-b69a-00591b3c6930",
        "colab": {
          "base_uri": "https://localhost:8080/"
        }
      },
      "execution_count": 118,
      "outputs": [
        {
          "output_type": "stream",
          "name": "stdout",
          "text": [
            "                                                text  label\n",
            "0  presidential candidate mar roxas implies govt ...      1\n",
            "1  parang may mali na sumunod ang patalastas ng n...      1\n",
            "2                    bet ko. pula ang kulay ng posas      1\n",
            "3                               [username] kakampink      0\n",
            "4  bakit parang tahimik ang mga pink doc willie o...      1\n",
            "Shape of DataFrame: (21773, 2)\n",
            "Column names: Index(['text', 'label'], dtype='object')\n"
          ]
        }
      ]
    },
    {
      "cell_type": "code",
      "source": [
        "# Replace 'actual_label_column_name' with the correct column name found in the previous step\n",
        "y_train = df_train_cleaned['text'].values\n",
        "\n",
        "# Display the first few entries of y_train to verify\n",
        "print(y_train[:5])\n"
      ],
      "metadata": {
        "id": "MhwtGoY_HNJM",
        "outputId": "d17801e5-7c05-4ce9-b429-523e1188b59b",
        "colab": {
          "base_uri": "https://localhost:8080/"
        }
      },
      "execution_count": 119,
      "outputs": [
        {
          "output_type": "stream",
          "name": "stdout",
          "text": [
            "['presidential candidate mar roxas implies govt liable re: laglag bala. laglag bayag na ata ito'\n",
            " 'parang may mali na sumunod ang patalastas ng nescaf coffee black sa commercial ni binay. parang lang naman.'\n",
            " 'bet ko. pula ang kulay ng posas' '[username] kakampink'\n",
            " 'bakit parang tahimik ang mga pink doc willie ong? reaction paper.']\n"
          ]
        }
      ]
    },
    {
      "cell_type": "markdown",
      "source": [
        "14. Use `CountVectorizer()` or `TfidfVectorizer()` to convert text data to its numerical form.\n",
        "\n",
        "Put the converted data to **X_train_transformed** variable"
      ],
      "metadata": {
        "id": "eon5IhhRewJn"
      }
    },
    {
      "cell_type": "code",
      "source": [
        "# Initialize CountVectorizer\n",
        "count_vectorizer = CountVectorizer()\n",
        "\n",
        "# Transform the text data into numerical form\n",
        "X_train_transformed = count_vectorizer.fit_transform(X_train)\n",
        "\n",
        "# Convert to an array for easier visualization (optional)\n",
        "X_train_transformed_array = X_train_transformed.toarray()\n",
        "\n",
        "# Display the shape of the transformed data\n",
        "print(\"Shape of X_train_transformed (CountVectorizer):\", X_train_transformed.shape)\n"
      ],
      "metadata": {
        "id": "b95qPmsTewfG",
        "outputId": "f1c64af9-e28f-4641-84c2-c20a4cafa254",
        "colab": {
          "base_uri": "https://localhost:8080/"
        }
      },
      "execution_count": 120,
      "outputs": [
        {
          "output_type": "stream",
          "name": "stdout",
          "text": [
            "Shape of X_train_transformed (CountVectorizer): (21773, 37669)\n"
          ]
        }
      ]
    },
    {
      "cell_type": "code",
      "source": [
        "# Initialize TfidfVectorizer\n",
        "tfidf_vectorizer = TfidfVectorizer()\n",
        "\n",
        "# Transform the text data into numerical form\n",
        "X_train_transformed = tfidf_vectorizer.fit_transform(X_train)\n",
        "\n",
        "# Convert to an array for easier visualization (optional)\n",
        "X_train_transformed_array = X_train_transformed.toarray()\n",
        "\n",
        "# Display the shape of the transformed data\n",
        "print(\"Shape of X_train_transformed (TfidfVectorizer):\", X_train_transformed.shape)\n"
      ],
      "metadata": {
        "id": "SDCt9WI1He7F",
        "outputId": "62fe8fd4-a879-49ad-fda5-510871614b35",
        "colab": {
          "base_uri": "https://localhost:8080/"
        }
      },
      "execution_count": 121,
      "outputs": [
        {
          "output_type": "stream",
          "name": "stdout",
          "text": [
            "Shape of X_train_transformed (TfidfVectorizer): (21773, 37669)\n"
          ]
        }
      ]
    },
    {
      "cell_type": "markdown",
      "source": [
        "15. Create an instance of `MultinomalNB()`"
      ],
      "metadata": {
        "id": "OxdKojNie3ss"
      }
    },
    {
      "cell_type": "code",
      "source": [
        "# Create an instance of MultinomialNB\n",
        "model = MultinomialNB()\n"
      ],
      "metadata": {
        "id": "jADaCXLne36S"
      },
      "execution_count": 122,
      "outputs": []
    },
    {
      "cell_type": "code",
      "source": [
        "# Import necessary libraries\n",
        "from sklearn.naive_bayes import MultinomialNB\n",
        "\n",
        "# Create an instance of MultinomialNB\n",
        "model = MultinomialNB()\n",
        "\n",
        "# You can now use 'model' for training and predictions\n",
        "print(\"MultinomialNB model instance created.\")\n"
      ],
      "metadata": {
        "id": "1TFKyKSqHkzM",
        "outputId": "866efc4f-a954-477d-8737-3b30e3ce818d",
        "colab": {
          "base_uri": "https://localhost:8080/"
        }
      },
      "execution_count": 123,
      "outputs": [
        {
          "output_type": "stream",
          "name": "stdout",
          "text": [
            "MultinomialNB model instance created.\n"
          ]
        }
      ]
    },
    {
      "cell_type": "markdown",
      "source": [
        "16. Train the model using `.fit()`"
      ],
      "metadata": {
        "id": "sQ-o0zS0iip8"
      }
    },
    {
      "cell_type": "code",
      "source": [
        "import pandas as pd\n",
        "from sklearn.feature_extraction.text import CountVectorizer\n",
        "from sklearn.naive_bayes import MultinomialNB\n",
        "from nltk.corpus import stopwords\n",
        "import re\n",
        "\n",
        "# Step 1: Load your dataset\n",
        "df_train = pd.read_csv(\"hf://datasets/mapsoriano/2016_2022_hate_speech_filipino/unique_train_dataset.csv\")\n",
        "\n",
        "# Step 2: Clean the data\n",
        "# Check for duplicates and NaN values\n",
        "print(\"Initial DataFrame shape:\", df_train.shape)\n",
        "print(\"Duplicates in DataFrame:\", df_train.duplicated().sum())\n",
        "print(\"Missing values in each column:\\n\", df_train.isnull().sum())\n",
        "\n",
        "# Remove duplicates\n",
        "df_train = df_train.drop_duplicates()\n",
        "\n",
        "# Remove rows with NaN values\n",
        "df_train = df_train.dropna()\n",
        "\n",
        "# Clean the text: convert to lowercase, remove digits, URLs, special characters\n",
        "df_train['text'] = df_train['text'].str.lower()\n",
        "df_train['text'] = df_train['text'].str.replace(r'\\d+', '', regex=True)\n",
        "df_train['text'] = df_train['text'].str.replace(r'http\\S+|www\\S+|https\\S+', '', regex=True)\n",
        "df_train['text'] = df_train['text'].str.replace(r'\\W+', ' ', regex=True)\n",
        "\n",
        "# Remove stop words\n",
        "stop_words = set(stopwords.words('english'))  # Change language if necessary\n",
        "df_train['text'] = df_train['text'].apply(lambda x: ' '.join(word for word in x.split() if word not in stop_words))\n",
        "\n",
        "# Step 3: Define the training variables\n",
        "X_train = df_train['text']  # Use the cleaned text column\n",
        "y_train = df_train['label']  # Use the actual label column name\n",
        "\n",
        "# Step 4: Convert text data to numerical form using CountVectorizer\n",
        "vectorizer = CountVectorizer()\n",
        "X_train_transformed = vectorizer.fit_transform(X_train)\n",
        "\n",
        "# Check if X_train_transformed is created successfully\n",
        "print(\"Shape of X_train_transformed:\", X_train_transformed.shape)\n",
        "\n",
        "# Step 5: Create an instance of the MultinomialNB model and train it\n",
        "model = MultinomialNB()\n",
        "model.fit(X_train_transformed, y_train)\n",
        "\n",
        "print(\"Model training complete.\")\n"
      ],
      "metadata": {
        "id": "18taO8Uxii5Q",
        "outputId": "3910541b-e35f-4188-97fe-60b26e707092",
        "colab": {
          "base_uri": "https://localhost:8080/"
        }
      },
      "execution_count": 124,
      "outputs": [
        {
          "output_type": "stream",
          "name": "stdout",
          "text": [
            "Initial DataFrame shape: (21773, 2)\n",
            "Duplicates in DataFrame: 0\n",
            "Missing values in each column:\n",
            " text     0\n",
            "label    0\n",
            "dtype: int64\n",
            "Shape of X_train_transformed: (21773, 36855)\n",
            "Model training complete.\n"
          ]
        }
      ]
    },
    {
      "cell_type": "markdown",
      "source": [
        "## D. Evaluate your model"
      ],
      "metadata": {
        "id": "InwOEEdjjPXS"
      }
    },
    {
      "cell_type": "markdown",
      "source": [
        "17. Use `.predict()` to generate model predictions using the **validation dataset**\n",
        "\n",
        "\n",
        "- Put all text validation data in **X_validation** variable\n",
        "\n",
        "- Convert **X_validation** to its numerical form.\n",
        "\n",
        "- Put the converted data to **X_validation_transformed**\n",
        "\n",
        "- Put all predictions in **y_validation_pred** variable"
      ],
      "metadata": {
        "id": "eDw6zehFizeY"
      }
    },
    {
      "cell_type": "code",
      "source": [
        "df_validation = pd.read_csv(\"hf://datasets/mapsoriano/2016_2022_hate_speech_filipino/unique_validation_dataset.csv\")\n",
        "\n",
        "print(\"Initial Validation DataFrame shape:\", df_validation.shape)\n",
        "print(\"Duplicates in Validation DataFrame:\", df_validation.duplicated().sum())\n",
        "print(\"Missing values in each column:\\n\", df_validation.isnull().sum())\n",
        "\n",
        "# Remove duplicates\n",
        "df_validation = df_validation.drop_duplicates()\n",
        "\n",
        "# Remove rows with NaN values\n",
        "df_validation = df_validation.dropna()\n",
        "\n",
        "# Clean the text: convert to lowercase, remove digits, URLs, special characters\n",
        "df_validation['text'] = df_validation['text'].str.lower()  # Replace 'text' with actual name\n",
        "df_validation['text'] = df_validation['text'].str.replace(r'\\d+', '', regex=True)\n",
        "df_validation['text'] = df_validation['text'].str.replace(r'http\\S+|www\\S+|https\\S+', '', regex=True)\n",
        "df_validation['text'] = df_validation['text'].str.replace(r'\\W+', ' ', regex=True)\n",
        "\n",
        "# Remove stop words\n",
        "stop_words = set(stopwords.words('english'))  # Change language if necessary\n",
        "df_validation['text'] = df_validation['text'].apply(lambda x: ' '.join(word for word in x.split() if word not in stop_words))\n",
        "\n",
        "# Step 3: Prepare validation data\n",
        "X_validation = df_validation['text']  # Use the cleaned text column\n",
        "y_validation = df_validation['label']  # Use the actual label column name\n",
        "\n",
        "# Step 4: Convert validation text data to numerical form using the same vectorizer\n",
        "X_validation_transformed = vectorizer.transform(X_validation)\n",
        "\n",
        "# Check if X_validation_transformed is created successfully\n",
        "print(\"Shape of X_validation_transformed:\", X_validation_transformed.shape)\n",
        "\n",
        "\n",
        "y_validation_pred = model.predict(X_validation_transformed)\n",
        "\n",
        "\n",
        "print(\"Predictions for the validation set:\", y_validation_pred)\n"
      ],
      "metadata": {
        "id": "I_HnXR5Mi6wG",
        "outputId": "ca01c237-6501-4ac3-8de5-619f38394a9d",
        "colab": {
          "base_uri": "https://localhost:8080/"
        }
      },
      "execution_count": 125,
      "outputs": [
        {
          "output_type": "stream",
          "name": "stdout",
          "text": [
            "Initial Validation DataFrame shape: (2800, 2)\n",
            "Duplicates in Validation DataFrame: 0\n",
            "Missing values in each column:\n",
            " text     0\n",
            "label    0\n",
            "dtype: int64\n",
            "Shape of X_validation_transformed: (2800, 36855)\n",
            "Predictions for the validation set: [1 0 0 ... 0 0 1]\n"
          ]
        }
      ]
    },
    {
      "cell_type": "markdown",
      "source": [
        "18. Get the Accuracy, Precision, Recall and F1-Score of the model using the **validation dataset**\n",
        "\n",
        "- Put all validation data labels in **y_validation** variable"
      ],
      "metadata": {
        "id": "c4Vysvx0i7o7"
      }
    },
    {
      "cell_type": "code",
      "source": [
        "df_validation = df_validation.drop_duplicates().dropna()\n",
        "df_validation['text'] = df_validation['text'].str.lower().str.replace(r'\\d+', '', regex=True).str.replace(r'http\\S+|www\\S+|https\\S+', '', regex=True).str.replace(r'\\W+', ' ', regex=True)\n",
        "\n",
        "stop_words = set(stopwords.words('english'))\n",
        "df_validation['text'] = df_validation['text'].apply(lambda x: ' '.join(word for word in x.split() if word not in stop_words))\n",
        "\n",
        "# Prepare validation data\n",
        "X_validation = df_validation['text']\n",
        "y_validation = df_validation['label']  # Put all validation data labels here\n",
        "\n",
        "# Use the model to predict\n",
        "X_validation_transformed = vectorizer.transform(X_validation)\n",
        "y_validation_pred = model.predict(X_validation_transformed)\n",
        "\n",
        "print(\"Predictions for the validation set:\", y_validation_pred)"
      ],
      "metadata": {
        "id": "qTOquylLjEYg",
        "outputId": "00bfe96d-ded6-4730-bfd6-451e1a893d0b",
        "colab": {
          "base_uri": "https://localhost:8080/"
        }
      },
      "execution_count": 126,
      "outputs": [
        {
          "output_type": "stream",
          "name": "stdout",
          "text": [
            "Predictions for the validation set: [1 0 0 ... 0 0 1]\n"
          ]
        }
      ]
    },
    {
      "cell_type": "markdown",
      "source": [
        "19. Create a confusion matrix using the **validation dataset**"
      ],
      "metadata": {
        "id": "hnHNHWXUjGa6"
      }
    },
    {
      "cell_type": "code",
      "source": [
        "import matplotlib.pyplot as plt\n",
        "from sklearn.metrics import confusion_matrix, ConfusionMatrixDisplay\n",
        "\n",
        "# Step 1: Generate confusion matrix\n",
        "cm = confusion_matrix(y_validation, y_validation_pred)\n",
        "\n",
        "# Step 2: Create a confusion matrix display\n",
        "disp = ConfusionMatrixDisplay(confusion_matrix=cm, display_labels=['Class 0', 'Class 1'])  # Replace with your actual class labels\n",
        "\n",
        "# Step 3: Plot the confusion matrix\n",
        "disp.plot(cmap=plt.cm.Blues)\n",
        "plt.title(\"Confusion Matrix\")\n",
        "plt.show()\n"
      ],
      "metadata": {
        "id": "rHNBIJgJjIrw",
        "outputId": "d98f7e46-70a1-4652-a5ec-8feee3fa7931",
        "colab": {
          "base_uri": "https://localhost:8080/",
          "height": 472
        }
      },
      "execution_count": 127,
      "outputs": [
        {
          "output_type": "display_data",
          "data": {
            "text/plain": [
              "<Figure size 640x480 with 2 Axes>"
            ],
            "image/png": "[encoded data removed]"
          },
          "metadata": {}
        }
      ]
    },
    {
      "cell_type": "markdown",
      "source": [
        "20. Use `.predict()` to generate the model predictions using the **test dataset**\n",
        "\n",
        "\n",
        "- Put all text validation data in **X_test** variable\n",
        "\n",
        "- Convert **X_test** to its numerical form.\n",
        "\n",
        "- Put the converted data to **X_test_transformed**\n",
        "\n",
        "- Put all predictions in **y_test_pred** variable"
      ],
      "metadata": {
        "id": "551pFLGwjJq5"
      }
    },
    {
      "cell_type": "code",
      "source": [
        "import pandas as pd\n",
        "\n",
        "# Step 1: Load the test dataset\n",
        "df_test = pd.read_csv(\"hf://datasets/mapsoriano/2016_2022_hate_speech_filipino/unique_test_dataset.csv\")\n",
        "\n",
        "# Step 2: Clean the test data\n",
        "df_test = df_test.drop_duplicates().dropna()\n",
        "df_test['text'] = df_test['text'].str.lower().str.replace(r'\\d+', '', regex=True).str.replace(r'http\\S+|www\\S+|https\\S+', '', regex=True).str.replace(r'\\W+', ' ', regex=True)\n",
        "\n",
        "# Remove stop words\n",
        "stop_words = set(stopwords.words('english'))\n",
        "df_test['text'] = df_test['text'].apply(lambda x: ' '.join(word for word in x.split() if word not in stop_words))\n",
        "\n",
        "# Step 3: Prepare test data\n",
        "X_test = df_test['text']\n",
        "\n",
        "# Step 4: Convert test text data to numerical form using the same vectorizer\n",
        "X_test_transformed = vectorizer.transform(X_test)\n",
        "\n",
        "# Step 5: Use the model to predict\n",
        "y_test_pred = model.predict(X_test_transformed)\n",
        "\n",
        "# Output predictions\n",
        "print(\"Predictions for the test set:\", y_test_pred)\n"
      ],
      "metadata": {
        "id": "PGAop3xvjZo6",
        "outputId": "4e29aced-1d2c-42ad-f754-4e784f212642",
        "colab": {
          "base_uri": "https://localhost:8080/"
        }
      },
      "execution_count": 128,
      "outputs": [
        {
          "output_type": "stream",
          "name": "stdout",
          "text": [
            "Predictions for the test set: [1 0 1 ... 1 0 1]\n"
          ]
        }
      ]
    },
    {
      "cell_type": "markdown",
      "source": [
        "21. Get the Accuracy, Precision, Recall and F1-Score of the model using the **test dataset**\n",
        "\n",
        "- Put all test data labels in **y_validation** variable\n",
        "\n"
      ],
      "metadata": {
        "id": "WYA239MGjZ-0"
      }
    },
    {
      "cell_type": "code",
      "source": [
        "from sklearn.metrics import accuracy_score, precision_score, recall_score, f1_score\n",
        "\n",
        "# Step 1: Put all test data labels in y_test variable\n",
        "y_test = df_test['label']  # Replace with the actual column name for labels\n",
        "\n",
        "# Step 2: Calculate metrics\n",
        "accuracy = accuracy_score(y_test, y_test_pred)\n",
        "precision = precision_score(y_test, y_test_pred, average='weighted')  # Use 'macro' or 'micro' as needed\n",
        "recall = recall_score(y_test, y_test_pred, average='weighted')  # Use 'macro' or 'micro' as needed\n",
        "f1 = f1_score(y_test, y_test_pred, average='weighted')  # Use 'macro' or 'micro' as needed\n",
        "\n",
        "# Step 3: Print the metrics\n",
        "print(f\"Accuracy: {accuracy:.2f}\")\n",
        "print(f\"Precision: {precision:.2f}\")\n",
        "print(f\"Recall: {recall:.2f}\")\n",
        "print(f\"F1 Score: {f1:.2f}\")\n"
      ],
      "metadata": {
        "id": "cbEG7T4Gjfje",
        "outputId": "d75ce5a2-4c15-4f37-f15b-96b72f6268c6",
        "colab": {
          "base_uri": "https://localhost:8080/"
        }
      },
      "execution_count": 129,
      "outputs": [
        {
          "output_type": "stream",
          "name": "stdout",
          "text": [
            "Accuracy: 0.83\n",
            "Precision: 0.84\n",
            "Recall: 0.83\n",
            "F1 Score: 0.83\n"
          ]
        }
      ]
    },
    {
      "cell_type": "markdown",
      "source": [
        "22. Create a confusion matrix using the **test dataset**"
      ],
      "metadata": {
        "id": "aA5_85ZXjgaz"
      }
    },
    {
      "cell_type": "code",
      "source": [
        "cm_test = confusion_matrix(y_test, y_test_pred)\n",
        "\n",
        "disp_test = ConfusionMatrixDisplay(confusion_matrix=cm_test, display_labels=['Class 0', 'Class 1'])  # Replace with your actual class labels\n",
        "\n",
        "disp_test.plot(cmap=plt.cm.Blues)\n",
        "plt.title(\"Confusion Matrix for Test Dataset\")\n",
        "plt.show()"
      ],
      "metadata": {
        "id": "BklrKazHji3L",
        "outputId": "83a2e656-dd6c-40b1-e5b3-061e2eaec345",
        "colab": {
          "base_uri": "https://localhost:8080/",
          "height": 472
        }
      },
      "execution_count": 130,
      "outputs": [
        {
          "output_type": "display_data",
          "data": {
            "text/plain": [
              "<Figure size 640x480 with 2 Axes>"
            ],
            "image/png": "[encoded data removed]"
          },
          "metadata": {}
        }
      ]
    },
    {
      "cell_type": "markdown",
      "source": [
        "## E. Test the model"
      ],
      "metadata": {
        "id": "yXT84y4upMOT"
      }
    },
    {
      "cell_type": "markdown",
      "source": [
        "23. Test the model by providing a non-hate speech input. The model should predict it as 0"
      ],
      "metadata": {
        "id": "FYtlFiBkpQHx"
      }
    },
    {
      "cell_type": "code",
      "source": [
        "input = [\"I love programming\"]\n",
        "\n",
        "input_cleaned = [text.lower() for text in input]\n",
        "\n",
        "# Remove digits, URLs, and special characters\n",
        "input_cleaned = [re.sub(r'\\d+', '', text) for text in input_cleaned]\n",
        "input_cleaned = [re.sub(r'http\\S+|www\\S+|https\\S+', '', text) for text in input_cleaned]\n",
        "input_cleaned = [re.sub(r'\\W+', ' ', text) for text in input_cleaned]\n",
        "\n",
        "# Remove stop words\n",
        "input_cleaned = [' '.join(word for word in text.split() if word not in stop_words) for text in input_cleaned]\n",
        "\n",
        "# Step 3: Convert the cleaned input to numerical form using the same vectorizer\n",
        "input_transformed = vectorizer.transform(input_cleaned)\n",
        "\n",
        "# Step 4: Predict the label using the model\n",
        "prediction = model.predict(input_transformed)\n",
        "\n",
        "# Step 5: Print the prediction\n",
        "print(\"Predicted label for non-hate speech input:\", prediction[0])\n"
      ],
      "metadata": {
        "id": "UlzOfYeBpgTH",
        "outputId": "1ef3e271-ac5f-4d85-de76-bb28650299aa",
        "colab": {
          "base_uri": "https://localhost:8080/"
        }
      },
      "execution_count": 131,
      "outputs": [
        {
          "output_type": "stream",
          "name": "stdout",
          "text": [
            "Predicted label for non-hate speech input: 0\n"
          ]
        }
      ]
    },
    {
      "cell_type": "markdown",
      "source": [
        "24. Test the model by providing a hate speech input. The model should predict it as 1"
      ],
      "metadata": {
        "id": "4I9Y0_JiphfC"
      }
    },
    {
      "cell_type": "code",
      "source": [
        "import re\n",
        "\n",
        "# Step 1: Create a hate speech input\n",
        "hate_speech_input = [\"Ang init ng ulo ko ang gulo-gulo bg paligid ang sarap talaga sumigaw ng Putangina.\"]\n",
        "\n",
        "# Step 2: Preprocess the input\n",
        "# Convert to lowercase\n",
        "hate_speech_input_cleaned = [text.lower() for text in hate_speech_input]\n",
        "\n",
        "# Remove digits, URLs, and special characters\n",
        "hate_speech_input_cleaned = [re.sub(r'\\d+', '', text) for text in hate_speech_input_cleaned]\n",
        "hate_speech_input_cleaned = [re.sub(r'http\\S+|www\\S+|https\\S+', '', text) for text in hate_speech_input_cleaned]\n",
        "hate_speech_input_cleaned = [re.sub(r'\\W+', ' ', text) for text in hate_speech_input_cleaned]\n",
        "\n",
        "# Assuming stop_words has been defined earlier\n",
        "# Remove stop words\n",
        "hate_speech_input_cleaned = [' '.join(word for word in text.split() if word not in stop_words) for text in hate_speech_input_cleaned]\n",
        "\n",
        "# Step 3: Convert the cleaned input to numerical form using the same vectorizer\n",
        "hate_speech_input_transformed = vectorizer.transform(hate_speech_input_cleaned)\n",
        "\n",
        "# Step 4: Predict the label using the model\n",
        "prediction_hate_speech = model.predict(hate_speech_input_transformed)\n",
        "\n",
        "# Step 5: Print the prediction\n",
        "print(\"Predicted label for hate speech input:\", prediction_hate_speech[0])\n"
      ],
      "metadata": {
        "id": "xsMkt3CKphwr",
        "outputId": "42051ed9-3257-430a-bb5a-8285ffd3db17",
        "colab": {
          "base_uri": "https://localhost:8080/"
        }
      },
      "execution_count": 132,
      "outputs": [
        {
          "output_type": "stream",
          "name": "stdout",
          "text": [
            "Predicted label for hate speech input: 1\n"
          ]
        }
      ]
    }
  ]
}